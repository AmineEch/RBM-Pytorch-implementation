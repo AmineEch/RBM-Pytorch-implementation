{
 "cells": [
  {
   "cell_type": "code",
   "execution_count": 1,
   "metadata": {
    "collapsed": true
   },
   "outputs": [],
   "source": [
    "import torch\n",
    "import torch.nn as nn\n",
    "import torch.nn.functional as F\n",
    "import torch.optim as optim\n",
    "\n",
    "import pylab\n",
    "\n",
    "class RBM(nn.Module):\n",
    "    '''\n",
    "    class implementing the restricted boltzmann machine model\n",
    "    '''\n",
    "\n",
    "    def __init__(self, n_v, n_h):\n",
    "        '''\n",
    "        self.params[0] = W, weights\n",
    "        self.params[1] = c, v bias\n",
    "        self.params[2] = b, h bias\n",
    "        '''\n",
    "        super(RBM, self).__init__()\n",
    "        self.params = [nn.Parameter(torch.randn(n_h, n_v)), nn.Parameter(torch.zeros(n_v)),\n",
    "                       nn.Parameter(torch.zeros(n_h))]\n",
    "        self.n_v = n_v\n",
    "        self.n_h = n_h\n",
    "\n",
    "    def forward(self, x, x_t, h_t):\n",
    "        '''\n",
    "        Forward function : p(x) = exp(-F(x)) F: Free energy\n",
    "        '''\n",
    "        F = - self.params[1].matmul(x) - nn.Softplus()(self.params[0].matmul(x).add_(self.params[2])).sum()\n",
    "        E = - self.params[1].matmul(x_t) - self.params[2].matmul(h_t) - h_t.matmul(self.params[0].matmul(x_t))\n",
    "        loss = F - E\n",
    "        return loss\n",
    "\n",
    "    def sample_h_knowing_x(self, x):\n",
    "        '''\n",
    "\n",
    "        :param x:\n",
    "        :return: h\n",
    "        '''\n",
    "        probs = F.sigmoid(self.params[1] + self.params[0].matmul(x))\n",
    "        h = B(probs).sample()\n",
    "        return h\n",
    "\n",
    "    def sample_x_knowing_h(self, h):\n",
    "        '''\n",
    "        :param h:\n",
    "        :return: x\n",
    "        '''\n",
    "        probs = F.sigmoid(self.params[2] + self.params[0].matmul(h))\n",
    "        x = B(probs).sample()\n",
    "        return x\n",
    "\n",
    "    def gibbs_sampling(self, num_itter, x_init, h_init):\n",
    "        '''\n",
    "        :param num_itter:\n",
    "        :param x_init:\n",
    "        :param h_init:\n",
    "        :return: (x, h)\n",
    "        '''\n",
    "\n",
    "        for i in range(num_itter+1):\n",
    "            if i == 0 :\n",
    "                x_t, h_t = x_init, h_init\n",
    "            else:\n",
    "                h_t = self.sample_h_knowing_x(x_t)\n",
    "                x_t = self.sample_x_knowing_h(h_t)\n",
    "\n",
    "        return x_t, h_t"
   ]
  },
  {
   "cell_type": "code",
   "execution_count": 2,
   "metadata": {},
   "outputs": [
    {
     "name": "stdout",
     "output_type": "stream",
     "text": [
      "tensor(-2.2315)\n"
     ]
    }
   ],
   "source": [
    "rbm = RBM(2,2)\n",
    "h_t = torch.ones(2)\n",
    "x_t = torch.ones(2)\n",
    "x = torch.ones(2)\n",
    "out1 = rbm.forward(x,x_t,h_t)\n",
    "print(out1)"
   ]
  },
  {
   "cell_type": "code",
   "execution_count": 4,
   "metadata": {},
   "outputs": [
    {
     "name": "stdout",
     "output_type": "stream",
     "text": [
      "tensor([[ 0.7753,  0.7753],\n        [ 1.6493,  1.6493]])\n"
     ]
    }
   ],
   "source": [
    "out1.backward()\n",
    "print(rbm.params[0].grad)"
   ]
  },
  {
   "cell_type": "code",
   "execution_count": 6,
   "metadata": {},
   "outputs": [
    {
     "name": "stdout",
     "output_type": "stream",
     "text": [
      "tensor([[ 0.0595,  0.0595],\n        [ 0.3877,  0.3877]])\n"
     ]
    }
   ],
   "source": [
    "rbm = RBM(2,2)\n",
    "h_t = torch.ones(2)\n",
    "x_t = torch.ones(2)\n",
    "x = torch.ones(2)\n",
    "out2 = rbm.forward(x,x_t,h_t)\n",
    "out2.backward()\n",
    "print(rbm.params[0].grad)"
   ]
  },
  {
   "cell_type": "code",
   "execution_count": null,
   "metadata": {},
   "outputs": [],
   "source": [
    "rbm = RBM(2,2)\n",
    "h_t = torch.ones(2)\n",
    "x_t = torch.ones(2)\n",
    "x = torch.ones(2)\n",
    "out1 = rbm.forward(x,x_t,h_t)"
   ]
  }
 ],
 "metadata": {
  "kernelspec": {
   "display_name": "Python 2",
   "language": "python",
   "name": "python2"
  },
  "language_info": {
   "codemirror_mode": {
    "name": "ipython",
    "version": 2
   },
   "file_extension": ".py",
   "mimetype": "text/x-python",
   "name": "python",
   "nbconvert_exporter": "python",
   "pygments_lexer": "ipython2",
   "version": "2.7.6"
  }
 },
 "nbformat": 4,
 "nbformat_minor": 0
}
